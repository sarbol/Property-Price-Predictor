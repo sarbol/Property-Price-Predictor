{
 "cells": [
  {
   "cell_type": "code",
   "execution_count": 3,
   "metadata": {},
   "outputs": [],
   "source": [
    "import pandas as pd\n",
    "df = pd.read_csv('model_app_data.csv')"
   ]
  },
  {
   "cell_type": "code",
   "execution_count": 4,
   "metadata": {},
   "outputs": [
    {
     "data": {
      "text/plain": [
       "location         0\n",
       "property_area    0\n",
       "bed              0\n",
       "street           0\n",
       "features         0\n",
       "bath             0\n",
       "toilet           0\n",
       "description      0\n",
       "price            0\n",
       "median_price     0\n",
       "Maxi             0\n",
       "Min              0\n",
       "dtype: int64"
      ]
     },
     "execution_count": 4,
     "metadata": {},
     "output_type": "execute_result"
    }
   ],
   "source": [
    "df.isnull().sum()"
   ]
  },
  {
   "cell_type": "code",
   "execution_count": 5,
   "metadata": {},
   "outputs": [
    {
     "data": {
      "text/html": [
       "<div>\n",
       "<style scoped>\n",
       "    .dataframe tbody tr th:only-of-type {\n",
       "        vertical-align: middle;\n",
       "    }\n",
       "\n",
       "    .dataframe tbody tr th {\n",
       "        vertical-align: top;\n",
       "    }\n",
       "\n",
       "    .dataframe thead th {\n",
       "        text-align: right;\n",
       "    }\n",
       "</style>\n",
       "<table border=\"1\" class=\"dataframe\">\n",
       "  <thead>\n",
       "    <tr style=\"text-align: right;\">\n",
       "      <th></th>\n",
       "      <th>location</th>\n",
       "      <th>property_area</th>\n",
       "      <th>bed</th>\n",
       "      <th>street</th>\n",
       "      <th>features</th>\n",
       "      <th>bath</th>\n",
       "      <th>toilet</th>\n",
       "      <th>description</th>\n",
       "      <th>price</th>\n",
       "      <th>median_price</th>\n",
       "      <th>Maxi</th>\n",
       "      <th>Min</th>\n",
       "    </tr>\n",
       "  </thead>\n",
       "  <tbody>\n",
       "    <tr>\n",
       "      <th>0</th>\n",
       "      <td>ajah</td>\n",
       "      <td>abijo</td>\n",
       "      <td>1</td>\n",
       "      <td>Destiny HomeAbijo Ajah Lagos</td>\n",
       "      <td>1 beds 1 baths 1 Toilets</td>\n",
       "      <td>1</td>\n",
       "      <td>1</td>\n",
       "      <td>MINI FLAT</td>\n",
       "      <td>350000.0</td>\n",
       "      <td>350000.0</td>\n",
       "      <td>450000.0</td>\n",
       "      <td>300000.0</td>\n",
       "    </tr>\n",
       "    <tr>\n",
       "      <th>1</th>\n",
       "      <td>ajah</td>\n",
       "      <td>abijo</td>\n",
       "      <td>1</td>\n",
       "      <td>Destiny home estateAbijo Ajah Lagos</td>\n",
       "      <td>1 beds 2 baths 2 Toilets</td>\n",
       "      <td>2</td>\n",
       "      <td>2</td>\n",
       "      <td>A NEWLY BUILT ROOM AND PARLOR SELF CONTAINED (...</td>\n",
       "      <td>450000.0</td>\n",
       "      <td>350000.0</td>\n",
       "      <td>450000.0</td>\n",
       "      <td>300000.0</td>\n",
       "    </tr>\n",
       "    <tr>\n",
       "      <th>2</th>\n",
       "      <td>ajah</td>\n",
       "      <td>abijo</td>\n",
       "      <td>1</td>\n",
       "      <td>Abijo Ajah Lagos</td>\n",
       "      <td>1 beds 1 baths 1 Toilets</td>\n",
       "      <td>1</td>\n",
       "      <td>1</td>\n",
       "      <td>1 BEDROOM APARTMENT / FLAT TO RENT IN LEKKI</td>\n",
       "      <td>400000.0</td>\n",
       "      <td>350000.0</td>\n",
       "      <td>450000.0</td>\n",
       "      <td>300000.0</td>\n",
       "    </tr>\n",
       "    <tr>\n",
       "      <th>3</th>\n",
       "      <td>ajah</td>\n",
       "      <td>abijo</td>\n",
       "      <td>1</td>\n",
       "      <td>AbijoAbijo Ajah Lagos</td>\n",
       "      <td>1 beds 1 baths 1 Toilets</td>\n",
       "      <td>1</td>\n",
       "      <td>1</td>\n",
       "      <td>MINI FLAT AVAILABLE</td>\n",
       "      <td>450000.0</td>\n",
       "      <td>350000.0</td>\n",
       "      <td>450000.0</td>\n",
       "      <td>300000.0</td>\n",
       "    </tr>\n",
       "    <tr>\n",
       "      <th>4</th>\n",
       "      <td>ajah</td>\n",
       "      <td>abijo</td>\n",
       "      <td>1</td>\n",
       "      <td>-Abijo Ajah Lagos</td>\n",
       "      <td>1 beds 1 baths 1 Toilets</td>\n",
       "      <td>1</td>\n",
       "      <td>1</td>\n",
       "      <td>1 BEDROOM APARTMENT</td>\n",
       "      <td>450000.0</td>\n",
       "      <td>350000.0</td>\n",
       "      <td>450000.0</td>\n",
       "      <td>300000.0</td>\n",
       "    </tr>\n",
       "  </tbody>\n",
       "</table>\n",
       "</div>"
      ],
      "text/plain": [
       "  location property_area  bed                               street  \\\n",
       "0     ajah         abijo    1         Destiny HomeAbijo Ajah Lagos   \n",
       "1     ajah         abijo    1  Destiny home estateAbijo Ajah Lagos   \n",
       "2     ajah         abijo    1                     Abijo Ajah Lagos   \n",
       "3     ajah         abijo    1                AbijoAbijo Ajah Lagos   \n",
       "4     ajah         abijo    1                    -Abijo Ajah Lagos   \n",
       "\n",
       "                   features  bath  toilet  \\\n",
       "0  1 beds 1 baths 1 Toilets     1       1   \n",
       "1  1 beds 2 baths 2 Toilets     2       2   \n",
       "2  1 beds 1 baths 1 Toilets     1       1   \n",
       "3  1 beds 1 baths 1 Toilets     1       1   \n",
       "4  1 beds 1 baths 1 Toilets     1       1   \n",
       "\n",
       "                                         description     price  median_price  \\\n",
       "0                                          MINI FLAT  350000.0      350000.0   \n",
       "1  A NEWLY BUILT ROOM AND PARLOR SELF CONTAINED (...  450000.0      350000.0   \n",
       "2        1 BEDROOM APARTMENT / FLAT TO RENT IN LEKKI  400000.0      350000.0   \n",
       "3                                MINI FLAT AVAILABLE  450000.0      350000.0   \n",
       "4                                1 BEDROOM APARTMENT  450000.0      350000.0   \n",
       "\n",
       "       Maxi       Min  \n",
       "0  450000.0  300000.0  \n",
       "1  450000.0  300000.0  \n",
       "2  450000.0  300000.0  \n",
       "3  450000.0  300000.0  \n",
       "4  450000.0  300000.0  "
      ]
     },
     "execution_count": 5,
     "metadata": {},
     "output_type": "execute_result"
    }
   ],
   "source": [
    "df.head()"
   ]
  },
  {
   "cell_type": "code",
   "execution_count": 6,
   "metadata": {},
   "outputs": [
    {
     "data": {
      "text/plain": [
       "array(['ajah', 'gbagada', 'ikeja', 'ikorodu', 'lekki', 'surulere', 'yaba'],\n",
       "      dtype=object)"
      ]
     },
     "execution_count": 6,
     "metadata": {},
     "output_type": "execute_result"
    }
   ],
   "source": [
    "df.location.unique()"
   ]
  },
  {
   "cell_type": "code",
   "execution_count": 8,
   "metadata": {},
   "outputs": [
    {
     "data": {
      "text/plain": [
       "array(['abijo', 'abraham-adesanya-estate', 'ado', 'ajiwe', 'akodo',\n",
       "       'awoyaya', 'badore', 'canaan-estate', 'crown-estate',\n",
       "       'eden-garden-estate', 'graceland-estate', 'ilaje', 'lakowe',\n",
       "       'lekki-gardens-estate', 'off-lekki-epe-expressway', 'ogombo',\n",
       "       'okun-ajah', 'olokonla', 'peninsula-estate', 'sangotedo',\n",
       "       'thomas-estate', 'atunrase-medina', 'gbagada', 'ifako-gbagada',\n",
       "       'medina', 'millenuim-ups', 'new-garage', 'oworonshoki', 'phase-1',\n",
       "       'phase-2', 'soluyi', 'adeniyi-jones', 'agidingbi',\n",
       "       'airport-road(ikeja)', 'alausa', 'alausa-ikeja', 'allen-avenue',\n",
       "       'awolowo-way', 'balogun', 'ikeja', 'ikeja-g.r.a', 'ikeja-gra',\n",
       "       'mangoro', 'maryland', 'mobolaji-bank-anthony-way', 'oba-akran',\n",
       "       'obafemi-awolowo-way', 'omole', 'opebi', 'oregun', 'toyin-street',\n",
       "       'unity-road', 'agric', 'akute-ajuwon', 'ebute', 'igbogbo', 'ijede',\n",
       "       'ikorodu', 'ipakodo', 'isawo', 'jumofak', 'maya', 'odongunyan',\n",
       "       'lekki-phase-1', 'abraham-adesanya', 'adelabu',\n",
       "       'adeniran-ogunsanya', 'aguda', 'alaka-estate', 'alaka-iponri',\n",
       "       'bode-thomas', 'central-surulere', 'coker', 'eric-moore', 'gbaja',\n",
       "       'idi-araba', 'ijesha', 'iponri', 'itire', 'kilo-marsha',\n",
       "       'lawanson', 'masha', 'ojuelegba', 'orile-iganmu', 'randle-avenue',\n",
       "       'western-avenue', 'abule-ijesha', 'abule-oja', 'adekunle', 'akoka',\n",
       "       'alagomeji', 'ebute-metta', 'fola-agoro', 'iwaya', 'jibowu',\n",
       "       'onike', 'sabo', 'tejuosho', 'yaba'], dtype=object)"
      ]
     },
     "execution_count": 8,
     "metadata": {},
     "output_type": "execute_result"
    }
   ],
   "source": [
    "df['property_area'].unique()"
   ]
  },
  {
   "cell_type": "code",
   "execution_count": 7,
   "metadata": {},
   "outputs": [
    {
     "data": {
      "text/plain": [
       "'ajabale'"
      ]
     },
     "execution_count": 7,
     "metadata": {},
     "output_type": "execute_result"
    }
   ],
   "source": [
    "'AJABALE'.lower()"
   ]
  },
  {
   "cell_type": "code",
   "execution_count": null,
   "metadata": {},
   "outputs": [],
   "source": [
    "\n",
    "    \n",
    "    \n",
    "    \n",
    "    \n",
    "    \n",
    "    \n",
    "    \n",
    "    \n",
    "    \n",
    "    "
   ]
  },
  {
   "cell_type": "code",
   "execution_count": null,
   "metadata": {},
   "outputs": [],
   "source": [
    "'Minimum Price in {}'.format(location), med_location_price(location, beds), 'Median Price in {}'.format(location),\n",
    "        max_location_price(location, beds), 'Maximum Price in {}'.format(location), min_price(area, beds), 'Minimum Price in {}'.format(area),\n",
    "        median_price(area, beds), 'Medium Price in {}'.format(area), max_price(area, beds), 'Maximum Price in {}'.format(area)"
   ]
  }
 ],
 "metadata": {
  "kernelspec": {
   "display_name": "Python 3",
   "language": "python",
   "name": "python3"
  },
  "language_info": {
   "codemirror_mode": {
    "name": "ipython",
    "version": 3
   },
   "file_extension": ".py",
   "mimetype": "text/x-python",
   "name": "python",
   "nbconvert_exporter": "python",
   "pygments_lexer": "ipython3",
   "version": "3.7.6"
  }
 },
 "nbformat": 4,
 "nbformat_minor": 4
}
